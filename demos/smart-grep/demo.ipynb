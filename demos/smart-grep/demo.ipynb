{
 "cells": [
  {
   "cell_type": "markdown",
   "metadata": {},
   "source": [
    "# Grep demo"
   ]
  },
  {
   "cell_type": "code",
   "execution_count": 3,
   "metadata": {},
   "outputs": [],
   "source": [
    "import iknowpy\n",
    "\n",
    "iknow = iknowpy.iKnowEngine()"
   ]
  },
  {
   "cell_type": "code",
   "execution_count": 55,
   "metadata": {},
   "outputs": [],
   "source": [
    "iknow.index(\"The patient did not report kidney beans, but had a lower back pain after gardening on Saturday.\",\"en\")"
   ]
  },
  {
   "cell_type": "code",
   "execution_count": 56,
   "metadata": {},
   "outputs": [
    {
     "name": "stdout",
     "output_type": "stream",
     "text": [
      "{'sentences': [{'entities': [{'type': 'NonRelevant', 'offset_start': 0, 'offset_stop': 3, 'index': 'the', 'dominance_value': 0.0, 'entity_id': 0}, {'type': 'Concept', 'offset_start': 4, 'offset_stop': 11, 'index': 'patient', 'dominance_value': 333.0, 'entity_id': 1}, {'type': 'Relation', 'offset_start': 12, 'offset_stop': 26, 'index': 'did not report', 'dominance_value': 1000.0, 'entity_id': 2}, {'type': 'Concept', 'offset_start': 27, 'offset_stop': 40, 'index': 'kidney beans', 'dominance_value': 666.0, 'entity_id': 3}, {'type': 'Relation', 'offset_start': 41, 'offset_stop': 48, 'index': 'but had', 'dominance_value': 666.0, 'entity_id': 4}, {'type': 'NonRelevant', 'offset_start': 49, 'offset_stop': 50, 'index': 'a', 'dominance_value': 0.0, 'entity_id': 0}, {'type': 'Concept', 'offset_start': 51, 'offset_stop': 66, 'index': 'lower back pain', 'dominance_value': 1000.0, 'entity_id': 5}, {'type': 'Relation', 'offset_start': 67, 'offset_stop': 85, 'index': 'after gardening on', 'dominance_value': 1000.0, 'entity_id': 6}, {'type': 'Concept', 'offset_start': 86, 'offset_stop': 95, 'index': 'saturday', 'dominance_value': 333.0, 'entity_id': 7}], 'sent_attributes': [{'type': 'Negation', 'offset_start': 12, 'offset_stop': 19, 'marker': 'did not', 'value': '', 'unit': '', 'value2': '', 'unit2': '', 'entity_ref': 2}, {'type': 'DateTime', 'offset_start': 86, 'offset_stop': 95, 'marker': 'Saturday.', 'value': '', 'unit': '', 'value2': '', 'unit2': '', 'entity_ref': 8}], 'path': [1, 2, 3, 4, 6, 7, 8], 'path_attributes': [{'type': 'Negation', 'pos': 0, 'span': 3}]}], 'proximity': [((5, 7), 64), ((1, 3), 64), ((3, 5), 64), ((3, 7), 42), ((1, 5), 42), ((1, 7), 32)]}\n"
     ]
    }
   ],
   "source": [
    "print(iknow.m_index)"
   ]
  },
  {
   "cell_type": "code",
   "execution_count": 57,
   "metadata": {},
   "outputs": [
    {
     "name": "stdout",
     "output_type": "stream",
     "text": [
      "<NonRelevant>the</NonRelevant> <Concept>patient</Concept> <Relation>did not report</Relation> <Concept>kidney beans</Concept> <Relation>but had</Relation> <NonRelevant>a</NonRelevant> <Concept>lower back pain</Concept> <Relation>after gardening on</Relation> <Concept>saturday</Concept> \n",
      "\n"
     ]
    }
   ],
   "source": [
    "# print basic parsing output\n",
    "for s in iknow.m_index['sentences']:\n",
    "    for e in s['entities']:\n",
    "        print('<'+e['type']+'>'+e['index']+'</'+e['type']+'>', end=' ')\n",
    "    print('\\n')"
   ]
  },
  {
   "cell_type": "code",
   "execution_count": 59,
   "metadata": {},
   "outputs": [
    {
     "name": "stdout",
     "output_type": "stream",
     "text": [
      "{'type': 'Negation', 'pos': 0, 'span': 3}\n",
      "[1, 1, 1, 0, 0, 0, 0, 0, 0]\n",
      "<neg>patient</neg> <neg>did not report</neg> <neg>kidney beans</neg> but had lower back pain after gardening on saturday \n",
      "\n"
     ]
    }
   ],
   "source": [
    "# print negation output\n",
    "for s in iknow.m_index['sentences']:\n",
    "    \n",
    "    # first build an array marking start and end positions\n",
    "    pos = 0\n",
    "    negated = []\n",
    "    for a in s['path_attributes']:\n",
    "        if a['type']==\"Negation\":\n",
    "            print(a)\n",
    "            for p in range(pos,a['pos']-1):\n",
    "                negated.append(0)\n",
    "            for p in range(a['pos'],a['pos']+a['span']):\n",
    "                negated.append(1)\n",
    "            pos = a['pos']+a['span']\n",
    "    for p in range(pos, len(s['entities'])):\n",
    "        negated.append(0)\n",
    "    print(negated)\n",
    "    \n",
    "    pos = 0\n",
    "    for e in s['entities']:\n",
    "        if e['type'] == 'NonRelevant': continue\n",
    "        if negated[pos]: print(\"<neg>\", end='')\n",
    "        print(e['index'], end='')\n",
    "        if negated[pos]: print(\"</neg>\", end='')\n",
    "        print(\" \", end=\"\")\n",
    "        pos = pos+1\n",
    "    print('\\n')"
   ]
  },
  {
   "cell_type": "code",
   "execution_count": 60,
   "metadata": {},
   "outputs": [
    {
     "name": "stdout",
     "output_type": "stream",
     "text": [
      "even though we put much effort no sugar into it \n",
      "\n"
     ]
    }
   ],
   "source": [
    "# now turn into a function\n",
    "def strip_negative(text, language=\"en\", iknow=iknowpy.iKnowEngine()):\n",
    "    iknow.index(text,language)\n",
    "    stripped = \"\"\n",
    "    for s in iknow.m_index['sentences']:\n",
    "        pos = 0\n",
    "        negated = []\n",
    "        for a in s['path_attributes']:\n",
    "            if a['type']==\"Negation\":\n",
    "                #print(a)\n",
    "                for p in range(pos,a['pos']-1):\n",
    "                    negated.append(0)\n",
    "                for p in range(a['pos'],a['pos']+a['span']):\n",
    "                    negated.append(1)\n",
    "                pos = a['pos']+a['span']\n",
    "        for p in range(pos, len(s['entities'])):\n",
    "            negated.append(0)\n",
    "        pos = 0\n",
    "        for e in s['entities']:\n",
    "            if e['type'] == 'NonRelevant': continue\n",
    "            if negated[pos] != 1: \n",
    "                stripped += e['index']\n",
    "                stripped+= \" \"\n",
    "            pos = pos+1\n",
    "        stripped += '\\n'\n",
    "    return stripped\n",
    "        \n",
    "\n",
    "print(strip_negative(\"he wasn't very happy with the cake, even though we put much effort (and no sugar) into it.\"))"
   ]
  }
 ],
 "metadata": {
  "kernelspec": {
   "display_name": "Python 3",
   "language": "python",
   "name": "python3"
  },
  "language_info": {
   "codemirror_mode": {
    "name": "ipython",
    "version": 3
   },
   "file_extension": ".py",
   "mimetype": "text/x-python",
   "name": "python",
   "nbconvert_exporter": "python",
   "pygments_lexer": "ipython3",
   "version": "3.8.3"
  }
 },
 "nbformat": 4,
 "nbformat_minor": 4
}
