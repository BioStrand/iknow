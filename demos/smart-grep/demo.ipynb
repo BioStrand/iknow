{
 "cells": [
  {
   "cell_type": "markdown",
   "metadata": {},
   "source": [
    "# Grep demo"
   ]
  },
  {
   "cell_type": "code",
   "execution_count": 1,
   "metadata": {},
   "outputs": [],
   "source": [
    "import iknowpy\n",
    "\n",
    "iknow = iknowpy.iKnowEngine()"
   ]
  },
  {
   "cell_type": "code",
   "execution_count": 34,
   "metadata": {},
   "outputs": [],
   "source": [
    "iknow.index(\"The patient did not report kidney beans, but had a lower back pain after gardening on Saturday.\",\"en\")\n",
    "# iknow.index(\"He wasn't very happy with the cake, even though we put much effort (and no sugar) into it.\",\"en\")"
   ]
  },
  {
   "cell_type": "code",
   "execution_count": 8,
   "metadata": {},
   "outputs": [
    {
     "name": "stdout",
     "output_type": "stream",
     "text": [
      "{ 'proximity': [ ((3, 5), 64),\n",
      "                 ((9, 11), 64),\n",
      "                 ((5, 9), 42),\n",
      "                 ((3, 9), 32),\n",
      "                 ((5, 11), 32),\n",
      "                 ((3, 11), 25)],\n",
      "  'sentences': [ { 'entities': [ { 'dominance_value': 0.0,\n",
      "                                   'entity_id': 1,\n",
      "                                   'index': 'he',\n",
      "                                   'offset_start': 0,\n",
      "                                   'offset_stop': 2,\n",
      "                                   'type': 'PathRelevant'},\n",
      "                                 { 'dominance_value': 500.0,\n",
      "                                   'entity_id': 2,\n",
      "                                   'index': \"wasn't\",\n",
      "                                   'offset_start': 3,\n",
      "                                   'offset_stop': 9,\n",
      "                                   'type': 'Relation'},\n",
      "                                 { 'dominance_value': 1000.0,\n",
      "                                   'entity_id': 3,\n",
      "                                   'index': 'very happy',\n",
      "                                   'offset_start': 10,\n",
      "                                   'offset_stop': 20,\n",
      "                                   'type': 'Concept'},\n",
      "                                 { 'dominance_value': 500.0,\n",
      "                                   'entity_id': 4,\n",
      "                                   'index': 'with',\n",
      "                                   'offset_start': 21,\n",
      "                                   'offset_stop': 25,\n",
      "                                   'type': 'Relation'},\n",
      "                                 { 'dominance_value': 0.0,\n",
      "                                   'entity_id': 0,\n",
      "                                   'index': 'the',\n",
      "                                   'offset_start': 26,\n",
      "                                   'offset_stop': 29,\n",
      "                                   'type': 'NonRelevant'},\n",
      "                                 { 'dominance_value': 500.0,\n",
      "                                   'entity_id': 5,\n",
      "                                   'index': 'cake',\n",
      "                                   'offset_start': 30,\n",
      "                                   'offset_stop': 35,\n",
      "                                   'type': 'Concept'},\n",
      "                                 { 'dominance_value': 1000.0,\n",
      "                                   'entity_id': 6,\n",
      "                                   'index': 'even though',\n",
      "                                   'offset_start': 36,\n",
      "                                   'offset_stop': 47,\n",
      "                                   'type': 'Relation'},\n",
      "                                 { 'dominance_value': 0.0,\n",
      "                                   'entity_id': 7,\n",
      "                                   'index': 'we',\n",
      "                                   'offset_start': 48,\n",
      "                                   'offset_stop': 50,\n",
      "                                   'type': 'PathRelevant'},\n",
      "                                 { 'dominance_value': 500.0,\n",
      "                                   'entity_id': 8,\n",
      "                                   'index': 'put',\n",
      "                                   'offset_start': 51,\n",
      "                                   'offset_stop': 54,\n",
      "                                   'type': 'Relation'},\n",
      "                                 { 'dominance_value': 1000.0,\n",
      "                                   'entity_id': 9,\n",
      "                                   'index': 'much effort',\n",
      "                                   'offset_start': 55,\n",
      "                                   'offset_stop': 66,\n",
      "                                   'type': 'Concept'},\n",
      "                                 { 'dominance_value': 500.0,\n",
      "                                   'entity_id': 10,\n",
      "                                   'index': 'and',\n",
      "                                   'offset_start': 67,\n",
      "                                   'offset_stop': 71,\n",
      "                                   'type': 'Relation'},\n",
      "                                 { 'dominance_value': 1000.0,\n",
      "                                   'entity_id': 11,\n",
      "                                   'index': 'no sugar',\n",
      "                                   'offset_start': 72,\n",
      "                                   'offset_stop': 81,\n",
      "                                   'type': 'Concept'},\n",
      "                                 { 'dominance_value': 500.0,\n",
      "                                   'entity_id': 12,\n",
      "                                   'index': 'into',\n",
      "                                   'offset_start': 82,\n",
      "                                   'offset_stop': 86,\n",
      "                                   'type': 'Relation'},\n",
      "                                 { 'dominance_value': 0.0,\n",
      "                                   'entity_id': 13,\n",
      "                                   'index': 'it',\n",
      "                                   'offset_start': 87,\n",
      "                                   'offset_stop': 90,\n",
      "                                   'type': 'PathRelevant'}],\n",
      "                   'path': [0, 1, 2, 3, 5, 6, 7, 8, 9, 10, 11, 12, 13],\n",
      "                   'path_attributes': [ { 'pos': 0,\n",
      "                                          'span': 5,\n",
      "                                          'type': 'Negation'},\n",
      "                                        { 'pos': 10,\n",
      "                                          'span': 1,\n",
      "                                          'type': 'Negation'}],\n",
      "                   'sent_attributes': [ { 'entity_ref': 1,\n",
      "                                          'marker': \"wasn't\",\n",
      "                                          'offset_start': 3,\n",
      "                                          'offset_stop': 9,\n",
      "                                          'type': 'Negation',\n",
      "                                          'unit': '',\n",
      "                                          'unit2': '',\n",
      "                                          'value': '',\n",
      "                                          'value2': ''},\n",
      "                                        { 'entity_ref': 11,\n",
      "                                          'marker': 'no',\n",
      "                                          'offset_start': 72,\n",
      "                                          'offset_stop': 74,\n",
      "                                          'type': 'Negation',\n",
      "                                          'unit': '',\n",
      "                                          'unit2': '',\n",
      "                                          'value': '',\n",
      "                                          'value2': ''}]}]}\n"
     ]
    }
   ],
   "source": [
    "import pprint\n",
    "pp = pprint.PrettyPrinter(indent=2)\n",
    "pp.pprint(iknow.m_index)"
   ]
  },
  {
   "cell_type": "code",
   "execution_count": 43,
   "metadata": {},
   "outputs": [
    {
     "name": "stdout",
     "output_type": "stream",
     "text": [
      "<NonRelevant>the</NonRelevant> <Concept>patient</Concept> <Relation>did not report</Relation> <Concept>kidney beans</Concept> <Relation>but had</Relation> <NonRelevant>a</NonRelevant> <Concept>lower back pain</Concept> <Relation>after gardening on</Relation> <Concept>saturday</Concept> \n",
      "\n"
     ]
    }
   ],
   "source": [
    "# print basic parsing output\n",
    "for s in iknow.m_index['sentences']:\n",
    "    for e in s['entities']:\n",
    "        print('<'+e['type']+'>'+e['index']+'</'+e['type']+'>', end=' ')\n",
    "    print('\\n')"
   ]
  },
  {
   "cell_type": "code",
   "execution_count": 42,
   "metadata": {},
   "outputs": [
    {
     "name": "stdout",
     "output_type": "stream",
     "text": [
      "attribute: {'type': 'Negation', 'pos': 0, 'span': 3}\n",
      "\n",
      "negated path positions: [1, 1, 1, 0, 0, 0, 0]\n",
      "\n",
      "<neg>patient</neg> <neg>did not report</neg> <neg>kidney beans</neg> but had lower back pain after gardening on saturday \n",
      "\n"
     ]
    }
   ],
   "source": [
    "# annotate negated entities\n",
    "for s in iknow.m_index['sentences']:\n",
    "    \n",
    "    # first build an array marking start and end positions\n",
    "    # position info relates to positions within the path, so exclude NonRelevant entities\n",
    "    pos = 0\n",
    "    negated = []\n",
    "    for a in s['path_attributes']:\n",
    "        if a['type']==\"Negation\":\n",
    "            print('attribute: '+str(a))\n",
    "            for p in range(pos,a['pos']-1):  # append zeroes since last attribute\n",
    "                negated.append(0)\n",
    "            for p in range(0,a['span']):     # append zeroes for this span\n",
    "                negated.append(1)\n",
    "            pos = a['pos']+a['span']-1       # update position\n",
    "\n",
    "    for p in range(pos, len(s['path'])-1):\n",
    "        negated.append(0)\n",
    "        \n",
    "    print('\\nnegated path positions: '+str(negated)+'\\n')\n",
    "    \n",
    "    pos = 0\n",
    "    for e in s['entities']:\n",
    "        \n",
    "        # ignore NonRelevants\n",
    "        if e['type'] == 'NonRelevant': \n",
    "            continue\n",
    "        \n",
    "        if negated[pos]: print(\"<neg>\", end='')\n",
    "        \n",
    "        print(e['index'], end='')\n",
    "        \n",
    "        if negated[pos]: print(\"</neg>\", end='')\n",
    "        \n",
    "        print(\" \", end=\"\")\n",
    "        pos = pos+1\n",
    "    print('\\n')"
   ]
  },
  {
   "cell_type": "code",
   "execution_count": 56,
   "metadata": {
    "scrolled": true
   },
   "outputs": [
    {
     "name": "stdout",
     "output_type": "stream",
     "text": [
      "even though we put much effort into it. \n",
      "\n"
     ]
    }
   ],
   "source": [
    "# now turn into a function that relates back to the original text\n",
    "def strip_negative(text, language=\"en\", iknow=iknowpy.iKnowEngine()):\n",
    "    iknow.index(text,language)\n",
    "    stripped = \"\"\n",
    "    for s in iknow.m_index['sentences']:\n",
    "        pos = 0\n",
    "        negated = []\n",
    "        for a in s['path_attributes']:\n",
    "            if a['type']==\"Negation\":\n",
    "                for p in range(pos,a['pos']-1):  # append zeroes since last attribute\n",
    "                    negated.append(0)\n",
    "                for p in range(0,a['span']):     # append zeroes for this span\n",
    "                    negated.append(1)\n",
    "                pos = a['pos']+a['span']-1       # update position\n",
    "        for p in range(pos, len(s['path'])-1):\n",
    "            negated.append(0)\n",
    "        pos = 0\n",
    "        for e in s['entities']:\n",
    "            if e['type'] == 'NonRelevant':\n",
    "                continue\n",
    "            if negated[pos] != 1: \n",
    "                stripped += text[e['offset_start']:e['offset_stop']] + \" \"\n",
    "            pos = pos+1\n",
    "        stripped += '\\n'\n",
    "    return stripped\n",
    "        \n",
    "\n",
    "print(strip_negative(\"He wasn't very happy with the cake, even though we put much effort (no sugar) into it.\"))"
   ]
  }
 ],
 "metadata": {
  "kernelspec": {
   "display_name": "Python 3",
   "language": "python",
   "name": "python3"
  },
  "language_info": {
   "codemirror_mode": {
    "name": "ipython",
    "version": 3
   },
   "file_extension": ".py",
   "mimetype": "text/x-python",
   "name": "python",
   "nbconvert_exporter": "python",
   "pygments_lexer": "ipython3",
   "version": "3.8.3"
  }
 },
 "nbformat": 4,
 "nbformat_minor": 4
}
