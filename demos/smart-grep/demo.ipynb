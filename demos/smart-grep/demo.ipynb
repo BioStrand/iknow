{
 "cells": [
  {
   "cell_type": "markdown",
   "metadata": {},
   "source": [
    "# Grep demo"
   ]
  },
  {
   "cell_type": "code",
   "execution_count": 3,
   "metadata": {},
   "outputs": [],
   "source": [
    "import iknowpy\n",
    "\n",
    "iknow = iknowpy.iKnowEngine()"
   ]
  },
  {
   "cell_type": "code",
   "execution_count": 55,
   "metadata": {},
   "outputs": [],
   "source": [
    "iknow.index(\"The patient did not report kidney beans, but had a lower back pain after gardening on Saturday.\",\"en\")"
   ]
  },
  {
   "cell_type": "code",
   "execution_count": 67,
   "metadata": {},
   "outputs": [
    {
     "name": "stdout",
     "output_type": "stream",
     "text": [
      "{ 'proximity': [ ((5, 7), 64),\n",
      "                 ((1, 3), 64),\n",
      "                 ((3, 5), 64),\n",
      "                 ((3, 7), 42),\n",
      "                 ((1, 5), 42),\n",
      "                 ((1, 7), 32)],\n",
      "  'sentences': [ { 'entities': [ { 'dominance_value': 0.0,\n",
      "                                   'entity_id': 0,\n",
      "                                   'index': 'the',\n",
      "                                   'offset_start': 0,\n",
      "                                   'offset_stop': 3,\n",
      "                                   'type': 'NonRelevant'},\n",
      "                                 { 'dominance_value': 333.0,\n",
      "                                   'entity_id': 1,\n",
      "                                   'index': 'patient',\n",
      "                                   'offset_start': 4,\n",
      "                                   'offset_stop': 11,\n",
      "                                   'type': 'Concept'},\n",
      "                                 { 'dominance_value': 1000.0,\n",
      "                                   'entity_id': 2,\n",
      "                                   'index': 'did not report',\n",
      "                                   'offset_start': 12,\n",
      "                                   'offset_stop': 26,\n",
      "                                   'type': 'Relation'},\n",
      "                                 { 'dominance_value': 666.0,\n",
      "                                   'entity_id': 3,\n",
      "                                   'index': 'kidney beans',\n",
      "                                   'offset_start': 27,\n",
      "                                   'offset_stop': 40,\n",
      "                                   'type': 'Concept'},\n",
      "                                 { 'dominance_value': 666.0,\n",
      "                                   'entity_id': 4,\n",
      "                                   'index': 'but had',\n",
      "                                   'offset_start': 41,\n",
      "                                   'offset_stop': 48,\n",
      "                                   'type': 'Relation'},\n",
      "                                 { 'dominance_value': 0.0,\n",
      "                                   'entity_id': 0,\n",
      "                                   'index': 'a',\n",
      "                                   'offset_start': 49,\n",
      "                                   'offset_stop': 50,\n",
      "                                   'type': 'NonRelevant'},\n",
      "                                 { 'dominance_value': 1000.0,\n",
      "                                   'entity_id': 5,\n",
      "                                   'index': 'lower back pain',\n",
      "                                   'offset_start': 51,\n",
      "                                   'offset_stop': 66,\n",
      "                                   'type': 'Concept'},\n",
      "                                 { 'dominance_value': 1000.0,\n",
      "                                   'entity_id': 6,\n",
      "                                   'index': 'after gardening on',\n",
      "                                   'offset_start': 67,\n",
      "                                   'offset_stop': 85,\n",
      "                                   'type': 'Relation'},\n",
      "                                 { 'dominance_value': 333.0,\n",
      "                                   'entity_id': 7,\n",
      "                                   'index': 'saturday',\n",
      "                                   'offset_start': 86,\n",
      "                                   'offset_stop': 95,\n",
      "                                   'type': 'Concept'}],\n",
      "                   'path': [1, 2, 3, 4, 6, 7, 8],\n",
      "                   'path_attributes': [ { 'pos': 0,\n",
      "                                          'span': 3,\n",
      "                                          'type': 'Negation'}],\n",
      "                   'sent_attributes': [ { 'entity_ref': 2,\n",
      "                                          'marker': 'did not',\n",
      "                                          'offset_start': 12,\n",
      "                                          'offset_stop': 19,\n",
      "                                          'type': 'Negation',\n",
      "                                          'unit': '',\n",
      "                                          'unit2': '',\n",
      "                                          'value': '',\n",
      "                                          'value2': ''},\n",
      "                                        { 'entity_ref': 8,\n",
      "                                          'marker': 'Saturday.',\n",
      "                                          'offset_start': 86,\n",
      "                                          'offset_stop': 95,\n",
      "                                          'type': 'DateTime',\n",
      "                                          'unit': '',\n",
      "                                          'unit2': '',\n",
      "                                          'value': '',\n",
      "                                          'value2': ''}]}]}\n"
     ]
    }
   ],
   "source": [
    "import pprint\n",
    "pp = pprint.PrettyPrinter(indent=2)\n",
    "pp.pprint(iknow.m_index)"
   ]
  },
  {
   "cell_type": "code",
   "execution_count": 57,
   "metadata": {},
   "outputs": [
    {
     "name": "stdout",
     "output_type": "stream",
     "text": [
      "<NonRelevant>the</NonRelevant> <Concept>patient</Concept> <Relation>did not report</Relation> <Concept>kidney beans</Concept> <Relation>but had</Relation> <NonRelevant>a</NonRelevant> <Concept>lower back pain</Concept> <Relation>after gardening on</Relation> <Concept>saturday</Concept> \n",
      "\n"
     ]
    }
   ],
   "source": [
    "# print basic parsing output\n",
    "for s in iknow.m_index['sentences']:\n",
    "    for e in s['entities']:\n",
    "        print('<'+e['type']+'>'+e['index']+'</'+e['type']+'>', end=' ')\n",
    "    print('\\n')"
   ]
  },
  {
   "cell_type": "code",
   "execution_count": 59,
   "metadata": {},
   "outputs": [
    {
     "name": "stdout",
     "output_type": "stream",
     "text": [
      "{'type': 'Negation', 'pos': 0, 'span': 3}\n",
      "[1, 1, 1, 0, 0, 0, 0, 0, 0]\n",
      "<neg>patient</neg> <neg>did not report</neg> <neg>kidney beans</neg> but had lower back pain after gardening on saturday \n",
      "\n"
     ]
    }
   ],
   "source": [
    "# print negation output\n",
    "for s in iknow.m_index['sentences']:\n",
    "    \n",
    "    # first build an array marking start and end positions\n",
    "    pos = 0\n",
    "    negated = []\n",
    "    for a in s['path_attributes']:\n",
    "        if a['type']==\"Negation\":\n",
    "            print(a)\n",
    "            for p in range(pos,a['pos']-1):\n",
    "                negated.append(0)\n",
    "            for p in range(a['pos'],a['pos']+a['span']):\n",
    "                negated.append(1)\n",
    "            pos = a['pos']+a['span']\n",
    "    for p in range(pos, len(s['entities'])):\n",
    "        negated.append(0)\n",
    "    print(negated)\n",
    "    \n",
    "    pos = 0\n",
    "    for e in s['entities']:\n",
    "        if e['type'] == 'NonRelevant': continue\n",
    "        if negated[pos]: print(\"<neg>\", end='')\n",
    "        print(e['index'], end='')\n",
    "        if negated[pos]: print(\"</neg>\", end='')\n",
    "        print(\" \", end=\"\")\n",
    "        pos = pos+1\n",
    "    print('\\n')"
   ]
  },
  {
   "cell_type": "code",
   "execution_count": 60,
   "metadata": {},
   "outputs": [
    {
     "name": "stdout",
     "output_type": "stream",
     "text": [
      "even though we put much effort no sugar into it \n",
      "\n"
     ]
    }
   ],
   "source": [
    "# now turn into a function\n",
    "def strip_negative(text, language=\"en\", iknow=iknowpy.iKnowEngine()):\n",
    "    iknow.index(text,language)\n",
    "    stripped = \"\"\n",
    "    for s in iknow.m_index['sentences']:\n",
    "        pos = 0\n",
    "        negated = []\n",
    "        for a in s['path_attributes']:\n",
    "            if a['type']==\"Negation\":\n",
    "                #print(a)\n",
    "                for p in range(pos,a['pos']-1):\n",
    "                    negated.append(0)\n",
    "                for p in range(a['pos'],a['pos']+a['span']):\n",
    "                    negated.append(1)\n",
    "                pos = a['pos']+a['span']\n",
    "        for p in range(pos, len(s['entities'])):\n",
    "            negated.append(0)\n",
    "        pos = 0\n",
    "        for e in s['entities']:\n",
    "            if e['type'] == 'NonRelevant': continue\n",
    "            if negated[pos] != 1: \n",
    "                stripped += e['index']\n",
    "                stripped+= \" \"\n",
    "            pos = pos+1\n",
    "        stripped += '\\n'\n",
    "    return stripped\n",
    "        \n",
    "\n",
    "print(strip_negative(\"he wasn't very happy with the cake, even though we put much effort (and no sugar) into it.\"))"
   ]
  }
 ],
 "metadata": {
  "kernelspec": {
   "display_name": "Python 3",
   "language": "python",
   "name": "python3"
  },
  "language_info": {
   "codemirror_mode": {
    "name": "ipython",
    "version": 3
   },
   "file_extension": ".py",
   "mimetype": "text/x-python",
   "name": "python",
   "nbconvert_exporter": "python",
   "pygments_lexer": "ipython3",
   "version": "3.8.3"
  }
 },
 "nbformat": 4,
 "nbformat_minor": 4
}
